{
 "cells": [
  {
   "cell_type": "code",
   "execution_count": 2,
   "metadata": {},
   "outputs": [],
   "source": [
    "from utils import Algorithm"
   ]
  },
  {
   "cell_type": "code",
   "execution_count": 3,
   "metadata": {},
   "outputs": [
    {
     "ename": "TypeError",
     "evalue": "'range' object does not support item assignment",
     "output_type": "error",
     "traceback": [
      "\u001b[1;31m---------------------------------------------------------------------------\u001b[0m",
      "\u001b[1;31mTypeError\u001b[0m                                 Traceback (most recent call last)",
      "\u001b[1;32mc:\\Users\\Admin\\OneDrive\\Desktop\\Вуз\\Нейронки\\lab1\\main.ipynb Cell 2\u001b[0m in \u001b[0;36m5\n\u001b[0;32m      <a href='vscode-notebook-cell:/c%3A/Users/Admin/OneDrive/Desktop/%D0%92%D1%83%D0%B7/%D0%9D%D0%B5%D0%B9%D1%80%D0%BE%D0%BD%D0%BA%D0%B8/lab1/main.ipynb#W1sZmlsZQ%3D%3D?line=2'>3</a>\u001b[0m algorithm \u001b[39m=\u001b[39m Algorithm(size\u001b[39m=\u001b[39m\u001b[39m100\u001b[39m)\n\u001b[0;32m      <a href='vscode-notebook-cell:/c%3A/Users/Admin/OneDrive/Desktop/%D0%92%D1%83%D0%B7/%D0%9D%D0%B5%D0%B9%D1%80%D0%BE%D0%BD%D0%BA%D0%B8/lab1/main.ipynb#W1sZmlsZQ%3D%3D?line=3'>4</a>\u001b[0m algorithm\u001b[39m.\u001b[39mread_topology(path)\n\u001b[1;32m----> <a href='vscode-notebook-cell:/c%3A/Users/Admin/OneDrive/Desktop/%D0%92%D1%83%D0%B7/%D0%9D%D0%B5%D0%B9%D1%80%D0%BE%D0%BD%D0%BA%D0%B8/lab1/main.ipynb#W1sZmlsZQ%3D%3D?line=4'>5</a>\u001b[0m \u001b[39mprint\u001b[39m(algorithm\u001b[39m.\u001b[39;49mgenerate_population())\n",
      "File \u001b[1;32mc:\\Users\\Admin\\OneDrive\\Desktop\\Вуз\\Нейронки\\lab1\\utils.py:33\u001b[0m, in \u001b[0;36mAlgorithm.generate_population\u001b[1;34m(self)\u001b[0m\n\u001b[0;32m     31\u001b[0m \u001b[39mfor\u001b[39;00m i \u001b[39min\u001b[39;00m \u001b[39mrange\u001b[39m(\u001b[39mself\u001b[39m\u001b[39m.\u001b[39msize):\n\u001b[0;32m     32\u001b[0m     individual \u001b[39m=\u001b[39m \u001b[39mrange\u001b[39m(\u001b[39mlen\u001b[39m(\u001b[39mself\u001b[39m\u001b[39m.\u001b[39mtopology))\n\u001b[1;32m---> 33\u001b[0m     random\u001b[39m.\u001b[39;49mshuffle(individual)\n\u001b[0;32m     34\u001b[0m     \u001b[39mself\u001b[39m\u001b[39m.\u001b[39mpopulation\u001b[39m.\u001b[39mappend(individual)\n\u001b[0;32m     35\u001b[0m \u001b[39mreturn\u001b[39;00m \u001b[39mself\u001b[39m\u001b[39m.\u001b[39mpopulation\n",
      "File \u001b[1;32mc:\\Users\\Admin\\AppData\\Local\\Programs\\Python\\Python39\\lib\\random.py:362\u001b[0m, in \u001b[0;36mRandom.shuffle\u001b[1;34m(self, x, random)\u001b[0m\n\u001b[0;32m    359\u001b[0m     \u001b[39mfor\u001b[39;00m i \u001b[39min\u001b[39;00m \u001b[39mreversed\u001b[39m(\u001b[39mrange\u001b[39m(\u001b[39m1\u001b[39m, \u001b[39mlen\u001b[39m(x))):\n\u001b[0;32m    360\u001b[0m         \u001b[39m# pick an element in x[:i+1] with which to exchange x[i]\u001b[39;00m\n\u001b[0;32m    361\u001b[0m         j \u001b[39m=\u001b[39m randbelow(i \u001b[39m+\u001b[39m \u001b[39m1\u001b[39m)\n\u001b[1;32m--> 362\u001b[0m         x[i], x[j] \u001b[39m=\u001b[39m x[j], x[i]\n\u001b[0;32m    363\u001b[0m \u001b[39melse\u001b[39;00m:\n\u001b[0;32m    364\u001b[0m     _warn(\u001b[39m'\u001b[39m\u001b[39mThe *random* parameter to shuffle() has been deprecated\u001b[39m\u001b[39m\\n\u001b[39;00m\u001b[39m'\u001b[39m\n\u001b[0;32m    365\u001b[0m           \u001b[39m'\u001b[39m\u001b[39msince Python 3.9 and will be removed in a subsequent \u001b[39m\u001b[39m'\u001b[39m\n\u001b[0;32m    366\u001b[0m           \u001b[39m'\u001b[39m\u001b[39mversion.\u001b[39m\u001b[39m'\u001b[39m,\n\u001b[0;32m    367\u001b[0m           \u001b[39mDeprecationWarning\u001b[39;00m, \u001b[39m2\u001b[39m)\n",
      "\u001b[1;31mTypeError\u001b[0m: 'range' object does not support item assignment"
     ]
    }
   ],
   "source": [
    "path = 'test_topology.csv'\n",
    "\n",
    "algorithm = Algorithm(size=100)\n",
    "algorithm.read_topology(path)\n",
    "print(algorithm.generate_population())"
   ]
  }
 ],
 "metadata": {
  "kernelspec": {
   "display_name": "Python 3",
   "language": "python",
   "name": "python3"
  },
  "language_info": {
   "codemirror_mode": {
    "name": "ipython",
    "version": 3
   },
   "file_extension": ".py",
   "mimetype": "text/x-python",
   "name": "python",
   "nbconvert_exporter": "python",
   "pygments_lexer": "ipython3",
   "version": "3.9.6"
  },
  "orig_nbformat": 4,
  "vscode": {
   "interpreter": {
    "hash": "0d591c6e422414675974e227c13f5382000c440fedd3c5006ef2be5d887f0ba7"
   }
  }
 },
 "nbformat": 4,
 "nbformat_minor": 2
}
